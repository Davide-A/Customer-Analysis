{
 "cells": [
  {
   "cell_type": "code",
   "execution_count": 1,
   "id": "1df974a9-ad4c-4b4b-892a-d311953310da",
   "metadata": {},
   "outputs": [],
   "source": [
    "import numpy as np\n",
    "import pickle\n",
    "\n",
    "from sklearn.preprocessing import StandardScaler"
   ]
  },
  {
   "cell_type": "markdown",
   "id": "36d00b66-f4c3-4a95-867b-0e214c20eaf3",
   "metadata": {},
   "source": [
    "# Preprocessing the data"
   ]
  },
  {
   "cell_type": "code",
   "execution_count": 2,
   "id": "1403e626-b522-47cb-9359-4aef981e1cb4",
   "metadata": {},
   "outputs": [],
   "source": [
    "raw_csv_data=np.loadtxt('C:/Users/armaod/Documents/Customer-Analysis/data/Audiobooks_data.csv', delimiter=',')"
   ]
  },
  {
   "cell_type": "code",
   "execution_count": 3,
   "id": "b36a04f8-6328-4d76-a624-990de394c970",
   "metadata": {},
   "outputs": [],
   "source": [
    "unscaled_inputs_all = raw_csv_data[:,1:-1]\n",
    "targets_all =raw_csv_data[:,-1]"
   ]
  },
  {
   "cell_type": "code",
   "execution_count": 4,
   "id": "b534f306-b58d-4f17-b469-1e553002d477",
   "metadata": {},
   "outputs": [
    {
     "data": {
      "text/plain": [
       "0.1588327179778472"
      ]
     },
     "execution_count": 4,
     "metadata": {},
     "output_type": "execute_result"
    }
   ],
   "source": [
    "targets_all.sum()/len(targets_all)"
   ]
  },
  {
   "cell_type": "code",
   "execution_count": 5,
   "id": "e1352cc5-8567-4bc3-9778-3bcd4edebe66",
   "metadata": {},
   "outputs": [
    {
     "name": "stdout",
     "output_type": "stream",
     "text": [
      "14084\n",
      "14084\n"
     ]
    }
   ],
   "source": [
    "print(len(unscaled_inputs_all))\n",
    "print(len(targets_all))"
   ]
  },
  {
   "cell_type": "markdown",
   "id": "86fb38db-b653-4aa3-a52f-359d7282012f",
   "metadata": {},
   "source": [
    "### Balancing tha dataset"
   ]
  },
  {
   "cell_type": "code",
   "execution_count": 6,
   "id": "679dd21d-b6f1-4f13-bc7d-2c8d33ae9a15",
   "metadata": {},
   "outputs": [],
   "source": [
    "num_one_targets = int(np.sum(targets_all))\n",
    "zero_targets_counter = 0\n",
    "indices_to_remove = []\n",
    "\n",
    "for i in range(targets_all.shape[0]):\n",
    "    if targets_all[i] == 0:\n",
    "        zero_targets_counter+=1\n",
    "        if zero_targets_counter> num_one_targets:\n",
    "            indices_to_remove.append(i)\n",
    "            \n",
    "unscaled_inputs_equal_priors = np.delete(unscaled_inputs_all, indices_to_remove, axis=0)\n",
    "targets_equal_priors = np.delete (targets_all, indices_to_remove, axis=0)"
   ]
  },
  {
   "cell_type": "code",
   "execution_count": 7,
   "id": "c0c1ea62-1dae-4d6b-8d56-e115a5996999",
   "metadata": {},
   "outputs": [
    {
     "name": "stdout",
     "output_type": "stream",
     "text": [
      "4474\n",
      "4474\n"
     ]
    }
   ],
   "source": [
    "print(len(unscaled_inputs_equal_priors))\n",
    "print(len(targets_equal_priors))"
   ]
  },
  {
   "cell_type": "markdown",
   "id": "eca0f5c0-3cbd-4e19-86b9-88051c8622e9",
   "metadata": {},
   "source": [
    "### Standardize the input"
   ]
  },
  {
   "cell_type": "code",
   "execution_count": 8,
   "id": "259d945c-5a1a-4603-ad46-746bbff76376",
   "metadata": {},
   "outputs": [],
   "source": [
    "scaler_deep_learning = StandardScaler()\n",
    "scaled_inputs = scaler_deep_learning.fit_transform(unscaled_inputs_equal_priors)"
   ]
  },
  {
   "cell_type": "code",
   "execution_count": 10,
   "id": "76d98607-6893-4bc4-bc26-4c063c3f43ff",
   "metadata": {},
   "outputs": [],
   "source": [
    "pickle.dump(scaler_deep_learning, open('scaler_deep_learning.pkl', 'wb'))"
   ]
  },
  {
   "cell_type": "markdown",
   "id": "59cdec5f-037a-4f79-889a-fa12b42b0a46",
   "metadata": {},
   "source": [
    "### Shuffle the data"
   ]
  },
  {
   "cell_type": "markdown",
   "id": "291f0344-193b-4f9d-a683-017a3b863cb5",
   "metadata": {},
   "source": [
    "Dato il batching è meglio mescolare a caso il dataset"
   ]
  },
  {
   "cell_type": "code",
   "execution_count": 19,
   "id": "9c51b321-e3e9-4f1c-afcc-2f28a2cfe9cf",
   "metadata": {},
   "outputs": [],
   "source": [
    "shuffled_indices = np.arange(scaled_inputs.shape[0])\n",
    "np.random.shuffle(shuffled_indices)\n",
    "\n",
    "shuffled_inputs = scaled_inputs[shuffled_indices]\n",
    "shuffled_targets = targets_equal_priors[shuffled_indices]"
   ]
  },
  {
   "cell_type": "code",
   "execution_count": 25,
   "id": "dd8407bf-5402-4922-b6b4-95535be4bfb7",
   "metadata": {},
   "outputs": [
    {
     "name": "stdout",
     "output_type": "stream",
     "text": [
      "4474\n",
      "4474\n"
     ]
    }
   ],
   "source": [
    "print(len(shuffled_inputs))\n",
    "print(len(shuffled_targets))"
   ]
  },
  {
   "cell_type": "markdown",
   "id": "af11b2d2-2288-4c21-920b-9ca1a28b66c8",
   "metadata": {},
   "source": [
    "### Split the dataset into train, validation, and test"
   ]
  },
  {
   "cell_type": "code",
   "execution_count": 30,
   "id": "5b07dad0-a744-43f7-86af-2125874d0f4f",
   "metadata": {},
   "outputs": [
    {
     "name": "stdout",
     "output_type": "stream",
     "text": [
      "1801.0 3579 0.5032131880413523\n",
      "229.0 447 0.5123042505592841\n",
      "207.0 448 0.46205357142857145\n"
     ]
    }
   ],
   "source": [
    "samples_count = shuffled_inputs.shape[0]\n",
    "\n",
    "train_samples_count = int(0.8*samples_count)\n",
    "validation_samples_count = int(0.1*samples_count)\n",
    "test_samples_count = samples_count - train_samples_count - validation_samples_count\n",
    "\n",
    "train_inputs = shuffled_inputs[:train_samples_count]\n",
    "train_targets = shuffled_targets[:train_samples_count]\n",
    "\n",
    "validation_inputs = shuffled_inputs[train_samples_count:train_samples_count+validation_samples_count]\n",
    "validation_targets = shuffled_targets[train_samples_count:train_samples_count+validation_samples_count]\n",
    "\n",
    "test_inputs = shuffled_inputs[train_samples_count+validation_samples_count:]\n",
    "test_targets = shuffled_targets[train_samples_count+validation_samples_count:]\n",
    "\n",
    "print(np.sum(train_targets), train_samples_count, np.sum(train_targets)/train_samples_count)\n",
    "print(np.sum(validation_targets), validation_samples_count, np.sum(validation_targets)/validation_samples_count)\n",
    "print(np.sum(test_targets), test_samples_count, np.sum(test_targets)/test_samples_count)\n"
   ]
  },
  {
   "cell_type": "markdown",
   "id": "c9bc2552-357c-4e25-aebc-e3baab17c321",
   "metadata": {},
   "source": [
    "Notare come le proporzioni di tutti i set sono quasi bilanciate a 50-50"
   ]
  },
  {
   "cell_type": "markdown",
   "id": "75d46336-7b37-4464-982d-be802e033791",
   "metadata": {},
   "source": [
    "### Saving the datasets in *.npz"
   ]
  },
  {
   "cell_type": "code",
   "execution_count": 31,
   "id": "1be2d9d1-e861-409b-b51f-628739e81fd7",
   "metadata": {},
   "outputs": [],
   "source": [
    "np.savez('audiobooks_data_train', inputs=train_inputs, targets=train_targets)\n",
    "np.savez('audiobooks_data_validation', inputs=validation_inputs, targets=validation_targets)\n",
    "np.savez('audiobooks_data_test', inputs=test_inputs, targets=test_targets)"
   ]
  },
  {
   "cell_type": "code",
   "execution_count": null,
   "id": "7b23df72-63d5-4dc5-bca3-260e355b813b",
   "metadata": {},
   "outputs": [],
   "source": []
  },
  {
   "cell_type": "code",
   "execution_count": null,
   "id": "bafe00d8-e03b-4824-a0b3-d67d767b757d",
   "metadata": {},
   "outputs": [],
   "source": []
  },
  {
   "cell_type": "code",
   "execution_count": null,
   "id": "bda49d68-1424-4dab-a411-d4dfbe9cf57d",
   "metadata": {},
   "outputs": [],
   "source": []
  },
  {
   "cell_type": "code",
   "execution_count": null,
   "id": "6e85179a-2a69-4685-9809-8423fb8e3be7",
   "metadata": {},
   "outputs": [],
   "source": []
  },
  {
   "cell_type": "code",
   "execution_count": null,
   "id": "b69e56dd-b42b-4b7f-b2c7-49eed4128d8b",
   "metadata": {},
   "outputs": [],
   "source": []
  },
  {
   "cell_type": "code",
   "execution_count": null,
   "id": "b32f20f6-5aeb-40a0-bc03-de51851a34ab",
   "metadata": {},
   "outputs": [],
   "source": []
  },
  {
   "cell_type": "code",
   "execution_count": null,
   "id": "740331be-d22e-439f-9db2-91a56dfd79c4",
   "metadata": {},
   "outputs": [],
   "source": []
  },
  {
   "cell_type": "code",
   "execution_count": null,
   "id": "3eaa2845-80b7-4e6c-ac44-3b8b4d4f2280",
   "metadata": {},
   "outputs": [],
   "source": []
  },
  {
   "cell_type": "code",
   "execution_count": null,
   "id": "baae6abe-b7e3-452d-959d-649a0f58f1df",
   "metadata": {},
   "outputs": [],
   "source": []
  }
 ],
 "metadata": {
  "kernelspec": {
   "display_name": "Python 3 (ipykernel)",
   "language": "python",
   "name": "python3"
  },
  "language_info": {
   "codemirror_mode": {
    "name": "ipython",
    "version": 3
   },
   "file_extension": ".py",
   "mimetype": "text/x-python",
   "name": "python",
   "nbconvert_exporter": "python",
   "pygments_lexer": "ipython3",
   "version": "3.10.9"
  }
 },
 "nbformat": 4,
 "nbformat_minor": 5
}
