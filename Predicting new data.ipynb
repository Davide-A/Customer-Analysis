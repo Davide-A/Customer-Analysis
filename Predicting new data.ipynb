{
 "cells": [
  {
   "cell_type": "code",
   "execution_count": 1,
   "id": "f2c8dc35-9eb3-4b1b-8c51-9fdd18e947a2",
   "metadata": {},
   "outputs": [],
   "source": [
    "import numpy as np\n",
    "import pickle\n",
    "import tensorflow as tf"
   ]
  },
  {
   "cell_type": "markdown",
   "id": "03dfa92e-658b-48e7-b964-e598dff891c5",
   "metadata": {},
   "source": [
    "### Data"
   ]
  },
  {
   "cell_type": "markdown",
   "id": "e6a13f22-f72c-4e86-a6b6-90025d83d8d9",
   "metadata": {},
   "source": [
    "Dovendo predire un singolo punto, per standardizzarlo è necessario riusare la media e deviazione standard del dataset utilizzato all'inizio"
   ]
  },
  {
   "cell_type": "code",
   "execution_count": 2,
   "id": "e0c016c0-ead9-4914-9edd-0a0701b2ee5a",
   "metadata": {},
   "outputs": [],
   "source": [
    "scaler_deep_learning = pickle.load(open('scaler_deep_learning.pkl', 'rb'))\n",
    "model = tf.keras.models.load_model('audiobooks_model.h5')"
   ]
  },
  {
   "cell_type": "code",
   "execution_count": 9,
   "id": "35b47f20-b85e-4d99-9c55-94cfeb662fd6",
   "metadata": {},
   "outputs": [],
   "source": [
    "raw_data = np.loadtxt('C:/Users/armaod/Documents/Customer-Analysis/data/New_Audiobooks_Data.csv', delimiter=',')\n",
    "new_data_inputs = raw_data [:,1:]"
   ]
  },
  {
   "cell_type": "markdown",
   "id": "543fecea-5ace-49d5-b815-29b4ecc4b5fd",
   "metadata": {},
   "source": [
    "### Predict the probability of a customer to convert"
   ]
  },
  {
   "cell_type": "code",
   "execution_count": 10,
   "id": "a82bbfd7-cf6c-414b-b40a-878fc865b525",
   "metadata": {},
   "outputs": [],
   "source": [
    "new_data_inputs_scaled = scaler_deep_learning.transform(new_data_inputs)"
   ]
  },
  {
   "cell_type": "code",
   "execution_count": 11,
   "id": "4b66ce7c-302b-4d3f-809c-336949b571dd",
   "metadata": {},
   "outputs": [
    {
     "name": "stdout",
     "output_type": "stream",
     "text": [
      "1/1 [==============================] - 0s 99ms/step\n"
     ]
    },
    {
     "data": {
      "text/plain": [
       "array([0.01, 0.  , 0.07, 1.  , 0.  , 0.06, 0.05, 0.05, 0.04, 0.87, 0.  ,\n",
       "       0.88, 0.99, 0.  , 0.13, 0.13, 0.91, 0.83, 0.92, 0.99, 1.  , 1.  ,\n",
       "       1.  , 0.  , 0.  , 1.  , 0.43, 0.  , 1.  , 1.  ], dtype=float32)"
      ]
     },
     "execution_count": 11,
     "metadata": {},
     "output_type": "execute_result"
    }
   ],
   "source": [
    "model.predict(new_data_inputs_scaled)[:,1].round(2)"
   ]
  },
  {
   "cell_type": "code",
   "execution_count": 12,
   "id": "3566c405-0c10-41c1-b844-4f26251a64d8",
   "metadata": {},
   "outputs": [
    {
     "name": "stdout",
     "output_type": "stream",
     "text": [
      "1/1 [==============================] - 0s 18ms/step\n"
     ]
    },
    {
     "data": {
      "text/plain": [
       "array([0, 0, 0, 1, 0, 0, 0, 0, 0, 1, 0, 1, 1, 0, 0, 0, 1, 1, 1, 1, 1, 1,\n",
       "       1, 0, 0, 1, 0, 0, 1, 1], dtype=int64)"
      ]
     },
     "execution_count": 12,
     "metadata": {},
     "output_type": "execute_result"
    }
   ],
   "source": [
    "np.argmax(model.predict(new_data_inputs_scaled),1)"
   ]
  }
 ],
 "metadata": {
  "kernelspec": {
   "display_name": "Python 3 (ipykernel)",
   "language": "python",
   "name": "python3"
  },
  "language_info": {
   "codemirror_mode": {
    "name": "ipython",
    "version": 3
   },
   "file_extension": ".py",
   "mimetype": "text/x-python",
   "name": "python",
   "nbconvert_exporter": "python",
   "pygments_lexer": "ipython3",
   "version": "3.10.9"
  }
 },
 "nbformat": 4,
 "nbformat_minor": 5
}
